{
 "cells": [
  {
   "cell_type": "code",
   "execution_count": null,
   "metadata": {},
   "outputs": [],
   "source": [
    "%load_ext autoreload\n",
    "%autoreload 2\n",
    "\n",
    "import cv2\n",
    "import numpy as np\n",
    "import matplotlib.pyplot as plt\n",
    "%matplotlib inline\n",
    "\n",
    "try:\n",
    "    from text_recognizer.datasets import IamParagraphsDataset\n",
    "except ImportError:\n",
    "    import sys\n",
    "    sys.path.append('..')\n",
    "    from text_recognizer.datasets import IamParagraphsDataset"
   ]
  },
  {
   "cell_type": "code",
   "execution_count": null,
   "metadata": {},
   "outputs": [],
   "source": [
    "dataset = IamDataset()\n"
   ]
  },
  {
   "cell_type": "code",
   "execution_count": 15,
   "metadata": {},
   "outputs": [
    {
     "name": "stdout",
     "output_type": "stream",
     "text": [
      "Loading IAM paragraph crops and ground truth from image files...\n",
      "IAM Paragraphs Dataset\n",
      "Num classes: 3\n",
      "Train: (1229, 512, 512) (1229, 512, 512, 3)\n",
      "Test: (308, 512, 512) (308, 512, 512)\n",
      "\n"
     ]
    }
   ],
   "source": [
    "paragraphs_dataset = IamParagraphsDataset()\n",
    "paragraphs_dataset.load_or_generate_data()\n",
    "print(paragraphs_dataset)"
   ]
  }
 ],
 "metadata": {
  "kernelspec": {
   "display_name": "Python 3",
   "language": "python",
   "name": "python3"
  },
  "language_info": {
   "codemirror_mode": {
    "name": "ipython",
    "version": 3
   },
   "file_extension": ".py",
   "mimetype": "text/x-python",
   "name": "python",
   "nbconvert_exporter": "python",
   "pygments_lexer": "ipython3",
   "version": "3.6.7"
  }
 },
 "nbformat": 4,
 "nbformat_minor": 2
}
